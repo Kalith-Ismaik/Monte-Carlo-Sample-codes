{
 "cells": [
  {
   "cell_type": "code",
   "execution_count": 68,
   "id": "bd2e0b25",
   "metadata": {},
   "outputs": [],
   "source": [
    "import math\n",
    "import random\n",
    "import numpy as np\n",
    "import pandas as pd\n",
    "import matplotlib.pyplot as plt"
   ]
  },
  {
   "cell_type": "code",
   "execution_count": 42,
   "id": "04aa6c28",
   "metadata": {},
   "outputs": [],
   "source": [
    "def periodic_cond(pos,dim,N,bound):\n",
    "    \n",
    "    for x in range(N):        \n",
    "        for y in range(3):\n",
    "            if bound[y] == 1:\n",
    "                if pos.iloc[x,y] > dim[y]:\n",
    "                    pos.iloc[x,y] = -(dim[y]) + pos.iloc[x,y]\n",
    "                elif pos.iloc[x,y] < 0:\n",
    "                    pos.iloc[x,y] = (dim[y]) + pos.iloc[x,y]\n",
    "                else:\n",
    "                    pos.iloc[x,y] = pos.iloc[x,y]\n",
    "            else:\n",
    "                pos.iloc[x,y] = pos.iloc[x,y]\n",
    "    return pos"
   ]
  },
  {
   "cell_type": "code",
   "execution_count": 71,
   "id": "20027c49",
   "metadata": {},
   "outputs": [],
   "source": [
    "def cutoff():\n",
    "    U    = []\n",
    "    X_np = np.arange(0.001, 10, 0.001)\n",
    "    X    = list(X_np)\n",
    "    F    = []\n",
    "    for x in X:\n",
    "        dist2   = x*x\n",
    "        dist6   = dist2**3\n",
    "        dist12  = dist6**2\n",
    "        dist13  = dist12*x\n",
    "        dist7   = dist6*x\n",
    "    \n",
    "        u  = 4*lj_e*(lj_s12/dist12 - lj_s6/dist6)                            # Potential energy calculation\n",
    "        f  = 4*lj_e*(((12 * lj_s12) / dist13) - ((6 * lj_s6) / dist7))       # Force calculation \n",
    "        \n",
    "        U.append(u)\n",
    "        F.append(f)\n",
    "        \n",
    "    min_index = U.index(min(U))\n",
    "    print(\"Minima of interatomic potential with He-He:\", U[min_index])\n",
    "    print(\"Equilibrium interatomic distance of He-He:\", X[min_index])\n",
    "    \n",
    "    PC = pd.DataFrame(list(zip(X,U,F)),\n",
    "                      columns =['Int_dist','E_Pot','Force'])\n",
    "    coords = PC.to_numpy()\n",
    "    np.savetxt('LJ_Curve.out', coords)\n",
    "    \n",
    "    fig, ax = plt.subplots()\n",
    "    ax.plot(X[min_index - 800 : min_index + 500] , U[min_index - 800 : min_index + 500],label = \"E_pot\")\n",
    "    ax.plot(X[min_index - 800 : min_index + 500] , F[min_index - 800 : min_index + 500],label = \"Force\")\n",
    "\n",
    "\n",
    "    ax.set(xlabel='Interatomic_Distance(r)', ylabel='Force(F) & E_pot(U)',\n",
    "           title='Lennard-jones potential curve')\n",
    "    ax.legend()\n",
    "    \n",
    "    fig.savefig(\"test.png\")\n",
    "    plt.show()\n",
    "    \n",
    "    return X[min_index]"
   ]
  },
  {
   "cell_type": "code",
   "execution_count": 44,
   "id": "f18a1a11",
   "metadata": {},
   "outputs": [],
   "source": [
    "def Skin(pos,N,cutoff):\n",
    "    r = cutoff + 4.0\n",
    "    neigh = []\n",
    "    for x in range(N):\n",
    "        nh = []\n",
    "        for y in range(x+1,N):\n",
    "            if pos.iloc[x,0]-pos.iloc[y,0]<=r and pos.iloc[x,1]-pos.iloc[y,1]<=r and pos.iloc[x,2]-pos.iloc[y,2]<=r:\n",
    "                nh.append(y)\n",
    "        for y in range(x-1,0,-1):\n",
    "            if pos.iloc[x,0]-pos.iloc[y,0]<=r and pos.iloc[x,1]-pos.iloc[y,1]<=r and pos.iloc[x,2]-pos.iloc[y,2]<=r:\n",
    "                nh.append(y)\n",
    "        neigh.append(nh)\n",
    "    return neigh"
   ]
  },
  {
   "cell_type": "code",
   "execution_count": 45,
   "id": "9d9911e4",
   "metadata": {},
   "outputs": [],
   "source": [
    "def Neighbours(pos,skin,N,cutoff):\n",
    "    r = cutoff + 2.0\n",
    "    neighh = []\n",
    "    for x in range(N):\n",
    "        nhh = []\n",
    "        for y in range(len(skin[x])):\n",
    "            if pos.iloc[x,0]-pos.iloc[skin[x][y],0]<=r and pos.iloc[x,1]-pos.iloc[skin[x][y],1]<=r and pos.iloc[x,2]-pos.iloc[skin[x][y],2]<=r:\n",
    "                nhh.append(skin[x][y])\n",
    "        neighh.append(nhh)\n",
    "    return neighh"
   ]
  },
  {
   "cell_type": "code",
   "execution_count": 46,
   "id": "2d768e8f",
   "metadata": {},
   "outputs": [],
   "source": [
    "def lennard_jones(pos,neigh,N):\n",
    "    distt2 = []\n",
    "    for x in range(N):\n",
    "        dist = []\n",
    "        for y in range(len(neigh[x])):\n",
    "            distt = pos.iloc[x,0]*pos.iloc[neigh[x][y],0] + pos.iloc[x,1]*pos.iloc[neigh[x][y],1]+pos.iloc[x,2]*pos.iloc[neigh[x][y],2]\n",
    "            #distt = distt**2\n",
    "            #distt = math.sqrt(distt)\n",
    "            dist.append(distt)\n",
    "        distt2.append(dist)    \n",
    "#    print(distt2)\n",
    "    U = []\n",
    "    F = []\n",
    "    for i in range(N):\n",
    "        UU = []\n",
    "        FF = []\n",
    "        for j in range(len(distt2[i])): \n",
    "            dist6   = distt2[i][j]**3\n",
    "            dist12  = dist6**2\n",
    "            #dist13  = dist12*math.sqrt(distt2[i][j])\n",
    "            #dist7   = dist6*math.sqrt(distt2[i][j])\n",
    "    \n",
    "            u  = 4*lj_e*(lj_s12/dist12 - lj_s6/dist6)                            # Potential energy calculation\n",
    "            #f  = 4*lj_e*(((12 * lj_s12) / dist13) - ((6 * lj_s6) / dist7))       # Force calculation\n",
    "            \n",
    "            UU.append(u)\n",
    "            #FF.append(f)\n",
    "        if len(UU) > 0:    \n",
    "            U_avg = sum(UU)/len(UU)\n",
    "            #F_avg = sum(FF)/len(FF)\n",
    "            UU    = []\n",
    "            #FF    = []\n",
    "            UU.append(U_avg)\n",
    "            #FF.append(F_avg)\n",
    "        \n",
    "        else:\n",
    "            z  = 0\n",
    "            UU = []\n",
    "            UU.append(z)\n",
    "            \n",
    "        U.append(UU)\n",
    "        #F.append(FF)\n",
    "        \n",
    "    return (U)"
   ]
  },
  {
   "cell_type": "code",
   "execution_count": 66,
   "id": "2c544884",
   "metadata": {},
   "outputs": [],
   "source": [
    "#Parameters are provided for Helium(He) atom.\n",
    "\n",
    "box         = (50.0,5.0,5.0)   # Dimensions             [In Angstrom]\n",
    "bound       = (1,1,1)\n",
    "N_atom      = 1                  # No of atoms\n",
    "N_step      = 50                 # No of Steps\n",
    "N_write     = 1                 # Steps at which co-ordinate to be saved\n",
    "Delta       = 10.0               # Time steps             [In ferrosecond]\n",
    "\n",
    "temp        = 200.0              # Temperature            [In Kelvin]\n",
    "\n",
    "lj_s        = 2.5238            # Lennard_jones_sigma    [In Angstrom]\n",
    "lj_e        = 0.01962           # Lennard_jones_epsilon  [In Kcal/mol]\n",
    "mass        = 4.002602          # Mass of atom           [In amu] \n",
    "bltz_const  = 0.001987191       # Boltzmann constant     [In Kcal/mol/K]\n",
    "\n",
    "tf          = 1**(-15)           # Time factor            [Convert second to ferrosecond]\n",
    "kT          = temp * bltz_const"
   ]
  },
  {
   "cell_type": "code",
   "execution_count": 48,
   "id": "5ecf76c2",
   "metadata": {},
   "outputs": [],
   "source": [
    "#Pre-defined factors\n",
    "\n",
    "dt          = Delta/tf\n",
    "dt2         = dt * dt\n",
    "\n",
    "v0          = math.sqrt(bltz_const * temp/mass)\n",
    "\n",
    "lj_s6       = lj_s**6\n",
    "lj_s12      = lj_s**12"
   ]
  },
  {
   "cell_type": "code",
   "execution_count": 49,
   "id": "9537c714",
   "metadata": {},
   "outputs": [],
   "source": [
    "def U_pot(x,s,e):\n",
    "    x6     = x**6\n",
    "    x12    = x**12\n",
    "    s6     = s**6\n",
    "    s12    = s**12\n",
    "    u      = 4*e*(s12/x12 - s6/x6)\n",
    "    return u"
   ]
  },
  {
   "cell_type": "code",
   "execution_count": 50,
   "id": "ada59ae4",
   "metadata": {},
   "outputs": [
    {
     "name": "stdout",
     "output_type": "stream",
     "text": [
      "d_max value the sample crystal is considered to be: 10 A\n",
      "Acceptance rate of the considered d_max: 46.81 %\n",
      "d_max is predicted with the nearest value to the cutoff: 50 %\n"
     ]
    },
    {
     "data": {
      "image/png": "[encoded data removed]",
      "text/plain": [
       "<Figure size 432x288 with 1 Axes>"
      ]
     },
     "metadata": {
      "needs_background": "light"
     },
     "output_type": "display_data"
    }
   ],
   "source": [
    "acc   = []\n",
    "dist  = []\n",
    "d     = 2.8329999999999997\n",
    "d_max = 1\n",
    "U     = U_pot(d,lj_s,lj_e)\n",
    "\n",
    "while (d_max < 101):\n",
    "    per = 0\n",
    "    rand = random.random()\n",
    "    for i in range(10000):\n",
    "        dx  = (random.random() - 0.5) * d_max\n",
    "        dx += d\n",
    "        U_x = U_pot(dx,lj_s,lj_e)\n",
    "        dU  = U_x - U\n",
    "        if dU < 0:\n",
    "            per += 1\n",
    "        elif dU >= 0:\n",
    "            p_acc = dU/(kT)\n",
    "            if p_acc > math.sqrt(math.log(random.random())**2):\n",
    "                per += 1\n",
    "    per /= 100\n",
    "    #print(\"Displaced_distance:\",d_max,\"  Acceptance_rate:\",per,\"%\")\n",
    "    acc.append(per)\n",
    "    dist.append(d_max)\n",
    "    d_max += 1\n",
    "\n",
    "loc     = acc.index(max(acc))\n",
    "d_max   = dist[loc]\n",
    "print(\"d_max value the sample crystal is considered to be:\",dist[loc],\"A\")\n",
    "print(\"Acceptance rate of the considered d_max:\",acc[loc],\"%\")\n",
    "print(\"d_max is predicted with the nearest value to the cutoff:\",\"50\",\"%\")\n",
    "fig, ax = plt.subplots()\n",
    "ax.plot(dist,acc)\n",
    "plt.xlabel(\"Displaced_distance [A]\")\n",
    "plt.ylabel(\"Acceptance_rate [%]\")\n",
    "plt.title(\"Acceptance rate vs Displaced distance\")\n",
    "plt.show()"
   ]
  },
  {
   "cell_type": "code",
   "execution_count": 62,
   "id": "8ffaffda",
   "metadata": {},
   "outputs": [],
   "source": [
    "x_coords = []\n",
    "y_coords = []\n",
    "z_coords = []\n",
    "\n",
    "for c in range(N_atom):\n",
    "    x = random.random()\n",
    "    y = random.random() \n",
    "    z = random.random() \n",
    "    pos = [x,y,z]\n",
    "    \n",
    "    for i in range(3):\n",
    "        if pos[i] > (box[i]/100):\n",
    "            pos[i] -= (box[i]/100)\n",
    "            \n",
    "        else:\n",
    "            pos[i] = pos[i]\n",
    "        pos[i] = round(pos[i] * (10**5)) / 1000\n",
    "        \n",
    "    x_coords.append(pos[0])\n",
    "    y_coords.append(pos[1])\n",
    "    z_coords.append(pos[2])\n",
    "    \n",
    "df = pd.DataFrame(list(zip(x_coords,y_coords,z_coords)),\n",
    "                  columns =['x_coords','y_coords','z_coords'])\n",
    "coords = df.to_numpy()\n",
    "np.savetxt('Initial_conf.out', coords)\n",
    "#dff = df.copy()"
   ]
  },
  {
   "cell_type": "code",
   "execution_count": 72,
   "id": "85f21865",
   "metadata": {},
   "outputs": [
    {
     "name": "stdout",
     "output_type": "stream",
     "text": [
      "Minima of interatomic potential with He-He: -0.019619998506585003\n",
      "Equilibrium interatomic distance of He-He: 2.8329999999999997\n"
     ]
    },
    {
     "data": {
      "image/png": "[encoded data removed]",
      "text/plain": [
       "<Figure size 432x288 with 1 Axes>"
      ]
     },
     "metadata": {
      "needs_background": "light"
     },
     "output_type": "display_data"
    }
   ],
   "source": [
    "co = cutoff()"
   ]
  },
  {
   "cell_type": "code",
   "execution_count": 67,
   "id": "185d4faf",
   "metadata": {},
   "outputs": [],
   "source": [
    "for tt in range(N_step + 1):\n",
    "    \n",
    "    dff = df\n",
    "    for i in range(N_atom):\n",
    "        for j in range(3):\n",
    "            dx  = (random.random() - 0.5) * d_max\n",
    "            df.iloc[i,j] += dx\n",
    "    \n",
    "    if tt%10 == 0:\n",
    "        sk = Skin(df,N_atom,co)\n",
    "    \n",
    "    neig   = Neighbours(df,sk,N_atom,co)\n",
    "    \n",
    "    if tt%10 == 0:\n",
    "        skk  = Skin(dff,N_atom,co)\n",
    "    \n",
    "    neigh    = Neighbours(dff,skk,N_atom,co)\n",
    "    \n",
    "    U_x = lennard_jones(df,neig,N_atom)\n",
    "    U   = lennard_jones(dff,neigh,N_atom)\n",
    "    \n",
    "    for i in range(N_atom):\n",
    "        dU = U_x[i][0] - U[i][0]\n",
    "        for j in range(3):\n",
    "            if dU >= 0:\n",
    "                p_acc = dU/kT\n",
    "                if p_acc < math.sqrt(math.log(random.random())**2):\n",
    "                    df.iloc[i,j] = dff.iloc[i,j]\n",
    "    \n",
    "    n_df = df\n",
    "    periodic_cond(n_df,box,N_atom,bound)\n",
    "    df = n_df\n",
    "    \n",
    "    if tt%N_write == 0:\n",
    "        crds  = df.to_numpy()\n",
    "        name  = str(tt) + '.out'\n",
    "        np.savetxt(name, crds)        "
   ]
  },
  {
   "cell_type": "code",
   "execution_count": null,
   "id": "73bcf29f",
   "metadata": {},
   "outputs": [],
   "source": []
  }
 ],
 "metadata": {
  "kernelspec": {
   "display_name": "Python 3 (ipykernel)",
   "language": "python",
   "name": "python3"
  },
  "language_info": {
   "codemirror_mode": {
    "name": "ipython",
    "version": 3
   },
   "file_extension": ".py",
   "mimetype": "text/x-python",
   "name": "python",
   "nbconvert_exporter": "python",
   "pygments_lexer": "ipython3",
   "version": "3.10.4"
  }
 },
 "nbformat": 4,
 "nbformat_minor": 5
}
